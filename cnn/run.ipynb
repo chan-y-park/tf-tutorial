{
 "cells": [
  {
   "cell_type": "code",
   "execution_count": null,
   "metadata": {
    "ExecuteTime": {
     "end_time": "2016-11-01T20:15:49.686703",
     "start_time": "2016-11-01T20:15:48.322480"
    },
    "collapsed": false
   },
   "outputs": [],
   "source": [
    "import flags\n",
    "\n",
    "import os\n",
    "files = os.listdir(flags.train_dir)\n",
    "for file in files:\n",
    "    os.remove(flags.train_dir + '/' + file)\n",
    "from model_training import train"
   ]
  },
  {
   "cell_type": "code",
   "execution_count": null,
   "metadata": {
    "ExecuteTime": {
     "end_time": "2016-11-01T00:35:21.576337",
     "start_time": "2016-11-01T00:35:21.574655"
    },
    "collapsed": false
   },
   "outputs": [],
   "source": [
    "#%pdb"
   ]
  },
  {
   "cell_type": "code",
   "execution_count": null,
   "metadata": {
    "ExecuteTime": {
     "end_time": "2016-11-01T20:15:58.064638",
     "start_time": "2016-11-01T20:15:50.611514"
    },
    "collapsed": false
   },
   "outputs": [],
   "source": [
    "train()"
   ]
  },
  {
   "cell_type": "code",
   "execution_count": null,
   "metadata": {
    "collapsed": false
   },
   "outputs": [],
   "source": []
  }
 ],
 "metadata": {
  "anaconda-cloud": {},
  "kernelspec": {
   "display_name": "Python [conda env:python3]",
   "language": "python",
   "name": "conda-env-python3-py"
  },
  "language_info": {
   "codemirror_mode": {
    "name": "ipython",
    "version": 3
   },
   "file_extension": ".py",
   "mimetype": "text/x-python",
   "name": "python",
   "nbconvert_exporter": "python",
   "pygments_lexer": "ipython3",
   "version": "3.5.2"
  }
 },
 "nbformat": 4,
 "nbformat_minor": 0
}
