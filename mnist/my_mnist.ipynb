{
 "cells": [
  {
   "cell_type": "code",
   "execution_count": 1,
   "metadata": {
    "ExecuteTime": {
     "end_time": "2016-10-24T16:35:24.269010",
     "start_time": "2016-10-24T16:35:23.386905"
    },
    "collapsed": false
   },
   "outputs": [],
   "source": [
    "from my_mnist import run"
   ]
  },
  {
   "cell_type": "code",
   "execution_count": 3,
   "metadata": {
    "ExecuteTime": {
     "end_time": "2016-10-24T16:35:35.221662",
     "start_time": "2016-10-24T16:35:32.076081"
    },
    "collapsed": false
   },
   "outputs": [
    {
     "name": "stdout",
     "output_type": "stream",
     "text": [
      "Extracting data/train-images-idx3-ubyte.gz\n",
      "Extracting data/train-labels-idx1-ubyte.gz\n",
      "Extracting data/t10k-images-idx3-ubyte.gz\n",
      "Extracting data/t10k-labels-idx1-ubyte.gz\n",
      "Step 0: loss = 2.81 (0.005 sec)\n",
      "Step 100: loss = 1.68 (0.001 sec)\n",
      "Step 200: loss = 1.19 (0.001 sec)\n",
      "Step 300: loss = 0.84 (0.001 sec)\n",
      "Step 400: loss = 0.86 (0.001 sec)\n",
      "Step 500: loss = 0.50 (0.001 sec)\n",
      "Step 600: loss = 0.45 (0.001 sec)\n",
      "Step 700: loss = 0.56 (0.001 sec)\n",
      "Step 800: loss = 0.58 (0.001 sec)\n",
      "Step 900: loss = 0.39 (0.001 sec)\n",
      "Training Data Eval:\n",
      "  Num examples: 55000  Num correct: 48388  Precision @ 1: 0.8798\n",
      "Validation Data Eval:\n",
      "  Num examples: 5000  Num correct: 4457  Precision @ 1: 0.8914\n",
      "Test Data Eval:\n",
      "  Num examples: 10000  Num correct: 8852  Precision @ 1: 0.8852\n",
      "Step 1000: loss = 0.35 (0.001 sec)\n",
      "Step 1100: loss = 0.28 (0.027 sec)\n",
      "Step 1200: loss = 0.28 (0.001 sec)\n",
      "Step 1300: loss = 0.30 (0.001 sec)\n",
      "Step 1400: loss = 0.32 (0.001 sec)\n",
      "Step 1500: loss = 0.47 (0.001 sec)\n",
      "Step 1600: loss = 0.37 (0.001 sec)\n",
      "Step 1700: loss = 0.34 (0.001 sec)\n",
      "Step 1800: loss = 0.37 (0.001 sec)\n",
      "Step 1900: loss = 0.26 (0.001 sec)\n",
      "Training Data Eval:\n",
      "  Num examples: 55000  Num correct: 50091  Precision @ 1: 0.9107\n",
      "Validation Data Eval:\n",
      "  Num examples: 5000  Num correct: 4571  Precision @ 1: 0.9142\n",
      "Test Data Eval:\n",
      "  Num examples: 10000  Num correct: 9142  Precision @ 1: 0.9142\n"
     ]
    }
   ],
   "source": [
    "run(max_steps=2000)"
   ]
  },
  {
   "cell_type": "code",
   "execution_count": null,
   "metadata": {
    "collapsed": true
   },
   "outputs": [],
   "source": []
  }
 ],
 "metadata": {
  "anaconda-cloud": {},
  "kernelspec": {
   "display_name": "Python [conda env:python3]",
   "language": "python",
   "name": "conda-env-python3-py"
  },
  "language_info": {
   "codemirror_mode": {
    "name": "ipython",
    "version": 3
   },
   "file_extension": ".py",
   "mimetype": "text/x-python",
   "name": "python",
   "nbconvert_exporter": "python",
   "pygments_lexer": "ipython3",
   "version": "3.5.2"
  }
 },
 "nbformat": 4,
 "nbformat_minor": 0
}
